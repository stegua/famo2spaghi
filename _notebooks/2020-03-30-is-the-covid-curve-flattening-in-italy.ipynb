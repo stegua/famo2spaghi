{
 "cells": [
  {
   "cell_type": "markdown",
   "metadata": {},
   "source": [
    "# Is the Covid Curve Flattening in Italy?\n",
    "> Data fitting via Nonlinear Constrained Optimization.\n",
    "\n",
    "- toc: true \n",
    "- badges: true\n",
    "- comments: true\n",
    "- categories: [jupyter]\n",
    "- image: images/chart-preview.png"
   ]
  },
  {
   "cell_type": "markdown",
   "metadata": {},
   "source": [
    "# About\n",
    "\n",
    "This notebook explains how to fit the [Italian open-data](https://github.com/pcm-dpc/COVID-19) about the spread of #covid19 using a [Susceptible-Infectious-Recovered (SIR) model](https://en.wikipedia.org/wiki/Compartmental_models_in_epidemiology). \n",
    "\n",
    "**Data fitting** is modeled and solved using Nonlinear Constrained Optimization via [Pyomo](http://www.pyomo.org/) and [IPOPT](https://github.com/coin-or/Ipopt).\n",
    "\n",
    "> Important: I am neither a medical doctor nor an epidemiologist. I am just a *mathematical optimizer*, and this post is about a didactic example of data fitting via Mathematical Optimization."
   ]
  },
  {
   "cell_type": "markdown",
   "metadata": {},
   "source": [
    "### Running this notebook on Colab\n",
    "Run the following snippet if you are running this notebook in [Colab](https://colab.research.google.com/)."
   ]
  },
  {
   "cell_type": "code",
   "execution_count": null,
   "metadata": {},
   "outputs": [],
   "source": [
    "#collapse-hide\n",
    "import shutil\n",
    "import sys\n",
    "import os.path\n",
    "\n",
    "if not shutil.which(\"pyomo\"):\n",
    "    !pip install -q pyomo\n",
    "    assert(shutil.which(\"pyomo\"))\n",
    "\n",
    "if not (shutil.which(\"ipopt\") or os.path.isfile(\"ipopt\")):\n",
    "    if \"google.colab\" in sys.modules:\n",
    "        !apt-get install -y -qq glpk-utils\n",
    "    else:\n",
    "        try:\n",
    "            !conda install -c conda-forge ipopt \n",
    "        except:\n",
    "            pass"
   ]
  },
  {
   "cell_type": "markdown",
   "metadata": {},
   "source": [
    "# The SIR model: The Elegance of Simplicity\n",
    "\n",
    "The **Susceptible-Infectious-Recovered (SIR)** model is a classical epidemic model that is used to describe rapid outbreaks that occur in less than a year. For a complete survey on the SIR and related models, we recommend reading the **SIAM Review** by Herbert W. Hethcote entitled [The Mathematics of Infectious\n",
    "Diseases](https://epubs.siam.org/doi/pdf/10.1137/S0036144500371907). The next paragraphs are based on that very nice paper.\n",
    "\n",
    "In this post, we will not enter into details of all those models, but we will focus on the basic equations that can be used to capture the main trend of the Covid19 outbreak in Italy at the time of writing."
   ]
  },
  {
   "cell_type": "markdown",
   "metadata": {},
   "source": [
    "## Continuous Time Model\n",
    "The **SIR model** consider a population of $N$ individuals partitioned into three groups: (i), Susceptible, (ii) Infectious, and (iii) Recovered. The number of individuals at time $t$ is each group is denoted by $S(t)$, $I(t)$, and $R(t)$, respectively. Since the model do not consider births and deaths, we have at any time of outbreak:\n",
    "$$\n",
    "    N = S(t) + I(t) + R(t).\n",
    "$$\n",
    "\n",
    "The dynamics of an outbreak is described by the SIR model via the following ordinary differential equations:\n",
    "\n",
    "$$\n",
    "\\frac{dS}{dt} = -\\frac{\\beta}{N}IS, \\;\\;\\;\\;\\;\\;\\;\\;\\;  S(0) \\geq 0\n",
    "$$\n",
    "$$\n",
    "\\frac{dI}{dt} = \\frac{\\beta}{N}IS - \\gamma I, \\;\\;\\; I(0) \\geq 0\n",
    "$$\n",
    "$$\n",
    "\\frac{dR}{dt} = \\gamma I, \\;\\;\\;\\;\\;\\;\\;\\;\\;\\;\\;\\;\\;\\;\\; R(0) \\geq 0\n",
    "$$\n",
    "\n",
    "Where $S(0), I(0), R(0)$ are the initial group sizes at the begging of the outbreak. The parameter $\\beta$ is the average number of contacts of a person per unit of time, while $\\frac{1}{\\gamma}$ is the mean infectious period."
   ]
  },
  {
   "cell_type": "markdown",
   "metadata": {},
   "source": [
    "A very important parameter is the **basic reproduction number $R_0$** defined as\n",
    "$$\n",
    "R_0 = \\frac{\\beta}{\\gamma}\n",
    "$$\n",
    "which is defined in [1] as the average number of secondary infections produced when one infected individual is introduced into a host population where everyone is susceptible."
   ]
  },
  {
   "cell_type": "markdown",
   "metadata": {},
   "source": [
    "## Discrete Time Model\n",
    "The previous model can be discretized thus obtaining the following **discrete time model**:\n",
    "\n",
    "$$\n",
    "S(t+1) = S(t) - \\frac{\\beta}{N} I(t) S(t), \\;\\;\\;\\;\\;\\;\\;\\;\\;\\;\n",
    "$$\n",
    "$$\n",
    "I(t+1) = I(t) + \\frac{\\beta}{N} S(t) I(t) - \\gamma I(t), \n",
    "$$\n",
    "$$\n",
    "R(t+1) = R(t) + \\gamma I(t) \\;\\;\\;\\;\\;\\;\\;\\;\\;\\;\\;\\;\\;\\;\\;\\;\\;\n",
    "$$\n",
    "\n",
    "Intuitively, we have that proportion of individuals moving at unit of time $t+1$ from the susceptible group $S$ to the infected groups $I$ is equal to $\\frac{\\beta}{N} I(t) S(t)$. The proportion of individuals moving at unit of time $t+1$ from the infected group $I$ to the recovered groups $R$ is equal to $\\gamma I(t)$."
   ]
  },
  {
   "cell_type": "markdown",
   "metadata": {},
   "source": [
    "The dynamic of the system is completely described by the two parameters $\\beta$ and $\\gamma$, and the initial conditions $S(0)$, $I(0)$, and $R(0)$.\n",
    "\n",
    "> Note: The goal of this post is to present a data fitting approach to estimate the two parameters $\\gamma$ and $\\beta$, given the data of an outbreak which is not yet concluded. That is, we have reasonable good estimate of $I(t)$ and $R(t)$ for all $t \\leq \\bar t$, but we have to estimate those values for $t \\geq \\bar t$."
   ]
  },
  {
   "cell_type": "markdown",
   "metadata": {},
   "source": [
    "As a side effect, we can get the value of the important parameter $R_0$.\n",
    "\n",
    "And all this happen by solving a Nonlinear Constrained Optimization problem using Python in a Colab."
   ]
  },
  {
   "cell_type": "markdown",
   "metadata": {},
   "source": [
    "# Data Fitting via Nonlinear Constrained Optimization\n",
    "The Italian government is updating every day on GitHub a detailed report of the situation of the [COVID19 outbreak in Italy](https://github.com/pcm-dpc/COVID-19): this is a very important source of data for every scientist.\n",
    "\n",
    "In particular, since February, 24th, 2020, we have the number of official cases (infected persons) the number of recovered, and the number of deaths. We are interested specifically on the number of new infected by day, which is only implicitly contained in the database.\n",
    "\n",
    "Another important source of data is the [Kaggle Covid Dataset](https://www.kaggle.com/c/covid19-global-forecasting-week-2), which contains the data for all the world. From Kaggle, we used the dataset for the Hubei region in China, where the outbreak is at the moment under control, and people is getting back to work."
   ]
  },
  {
   "cell_type": "markdown",
   "metadata": {},
   "source": [
    "## Input Data"
   ]
  },
  {
   "cell_type": "markdown",
   "metadata": {},
   "source": [
    "## Variables, Objective Function, and Constraints"
   ]
  },
  {
   "cell_type": "markdown",
   "metadata": {},
   "source": [
    "## Solving the Model"
   ]
  },
  {
   "cell_type": "markdown",
   "metadata": {},
   "source": [
    "# Is the Curve Flattening?\n"
   ]
  },
  {
   "cell_type": "code",
   "execution_count": null,
   "metadata": {},
   "outputs": [],
   "source": []
  },
  {
   "cell_type": "markdown",
   "metadata": {},
   "source": [
    "### License\n",
    "<a rel=\"license\" href=\"http://creativecommons.org/licenses/by-nc-sa/4.0/\"><img alt=\"Creative Commons License\" style=\"border-width:0\" src=\"https://i.creativecommons.org/l/by-nc-sa/4.0/88x31.png\" /></a><br />This work is licensed under a <a rel=\"license\" href=\"http://creativecommons.org/licenses/by-nc-sa/4.0/\">Creative Commons Attribution-NonCommercial-ShareAlike 4.0 International License</a>."
   ]
  },
  {
   "cell_type": "code",
   "execution_count": null,
   "metadata": {},
   "outputs": [],
   "source": []
  }
 ],
 "metadata": {
  "kernelspec": {
   "display_name": "Python 3",
   "language": "python",
   "name": "python3"
  },
  "language_info": {
   "codemirror_mode": {
    "name": "ipython",
    "version": 3
   },
   "file_extension": ".py",
   "mimetype": "text/x-python",
   "name": "python",
   "nbconvert_exporter": "python",
   "pygments_lexer": "ipython3",
   "version": "3.7.4"
  },
  "latex_envs": {
   "LaTeX_envs_menu_present": true,
   "autoclose": false,
   "autocomplete": true,
   "bibliofile": "biblio.bib",
   "cite_by": "apalike",
   "current_citInitial": 1,
   "eqLabelWithNumbers": true,
   "eqNumInitial": 1,
   "hotkeys": {
    "equation": "Ctrl-E",
    "itemize": "Ctrl-I"
   },
   "labels_anchors": false,
   "latex_user_defs": false,
   "report_style_numbering": false,
   "user_envs_cfg": false
  }
 },
 "nbformat": 4,
 "nbformat_minor": 4
}
